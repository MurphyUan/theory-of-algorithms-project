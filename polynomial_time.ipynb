{
 "cells": [
  {
   "cell_type": "markdown",
   "id": "681922e1",
   "metadata": {},
   "source": [
    "The Polynomial Time Complexity Class\n",
    "======="
   ]
  },
  {
   "cell_type": "markdown",
   "id": "55d362fe",
   "metadata": {},
   "source": []
  }
 ],
 "metadata": {
  "kernelspec": {
   "display_name": "base",
   "language": "python",
   "name": "python3"
  },
  "language_info": {
   "codemirror_mode": {
    "name": "ipython",
    "version": 3
   },
   "file_extension": ".py",
   "mimetype": "text/x-python",
   "name": "python",
   "nbconvert_exporter": "python",
   "pygments_lexer": "ipython3",
   "version": "3.9.12 (main, Apr  4 2022, 05:22:27) [MSC v.1916 64 bit (AMD64)]"
  },
  "vscode": {
   "interpreter": {
    "hash": "cc64920957a4294a6ab18984e1c6325dbb779dd3663b17aa9a450aa6820abc21"
   }
  }
 },
 "nbformat": 4,
 "nbformat_minor": 5
}
