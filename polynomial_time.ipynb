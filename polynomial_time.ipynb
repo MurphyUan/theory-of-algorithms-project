{
 "cells": [
  {
   "attachments": {},
   "cell_type": "markdown",
   "id": "681922e1",
   "metadata": {},
   "source": [
    "# The Polynomial Time Complexity Class\n",
    "***"
   ]
  },
  {
   "attachments": {},
   "cell_type": "markdown",
   "id": "214a707e",
   "metadata": {},
   "source": [
    "The purpose of this notebook is to document and display research carried out through the module Theory of Algorithms taught by __?__, on the topic of the Polynomial Time Complexity Class. This will be in the form of a review of existent literature and examples through graphs constructed using python code. "
   ]
  },
  {
   "attachments": {},
   "cell_type": "markdown",
   "id": "7b87a76e",
   "metadata": {},
   "source": [
    "### Introduction"
   ]
  },
  {
   "attachments": {},
   "cell_type": "markdown",
   "id": "55d362fe",
   "metadata": {},
   "source": [
    "In *computation complexity theory*, the **Polynomial Time Complexity Class** also known as $P$ is a *class* that contains *problems* that can all be *solved* in a time that *grows* at most as a *polynomial function* of the *size* of the *input*.[1]"
   ]
  },
  {
   "attachments": {},
   "cell_type": "markdown",
   "id": "9989b3a4",
   "metadata": {},
   "source": [
    "This means that for an *input size* of **n**, the *maximum* number of *steps* required to *solve* the problem is some *polynomial function* of **n**, such as **$ 5n, n^2 $** or $log(n)$. These *problems* are considered to be *efficiently solvable*, meaning whenever the *input size* changes the increase wouldn't be *exponential*."
   ]
  },
  {
   "attachments": {},
   "cell_type": "markdown",
   "id": "7c284d0c",
   "metadata": {},
   "source": [
    "Examples of such problems of P complexity include:\n",
    "+ Finding the maximum or minimum of a set of numbers\n",
    "+ Sorting an array of numbers\n",
    "+ Primality testing\n",
    "+ Matrix multiplication\n",
    "+ Solving a system of linear equations\n",
    "+ Determining if a graph is connected or not\n",
    "+ Finding the shortest path in a graph\n",
    "+ Checking if a context-free grammar generates an infinite language\n",
    "+ Determining if a language is regular or not"
   ]
  },
  {
   "attachments": {},
   "cell_type": "markdown",
   "id": "9f436ee1",
   "metadata": {},
   "source": [
    "However there is another complexity class called The **Non-Deterministic Polynomial Time Complexity Class**, also known as **NP**, which defines decision problems. This means that problems that belong to **NP** should be solved by using a proposed solution which can be *verified* in *polynomial time* by a *deterministic Turing Machine*. This translates to, finding the solution could take an *exponential* amount of time, however once a *solution* is found it can be *checked* quickly using *polynomial time algorithms*."
   ]
  },
  {
   "attachments": {},
   "cell_type": "markdown",
   "id": "5d4128b3",
   "metadata": {},
   "source": [
    "Examples of such problems of NP complexity include:\n",
    "+ The traveling salesman problem (finding the shortest route visiting a given set of cities and returning to the starting city)\n",
    "+ The satisfiability problem (determining if a Boolean expression can be made true by setting the values of its variables)\n",
    "+ The clique problem (finding a group of vertices in a graph such that every two vertices are connected by an edge)\n",
    "+ The subset sum problem (finding a subset of a given set of numbers whose sum is equal to a given target sum)\n",
    "+ The knapsack problem (finding the combination of items to include in a knapsack to maximise the total value while staying within a weight limit)"
   ]
  },
  {
   "attachments": {},
   "cell_type": "markdown",
   "id": "752dd29b",
   "metadata": {},
   "source": [
    "It is widely *believed*, but *not proven*, that **NP** problems are *intractable*, meaning they *cannot be solved* in *polynomial time*. However, there are many *important* problems in **NP** that are of *practical interest* and are *actively* being *studied*."
   ]
  },
  {
   "attachments": {},
   "cell_type": "markdown",
   "id": "f5b2300c",
   "metadata": {},
   "source": [
    "### Context"
   ]
  },
  {
   "cell_type": "markdown",
   "id": "e46bc13e",
   "metadata": {},
   "source": []
  },
  {
   "attachments": {},
   "cell_type": "markdown",
   "id": "af29668c",
   "metadata": {},
   "source": [
    "### Summary"
   ]
  },
  {
   "cell_type": "markdown",
   "id": "6c0e05cd",
   "metadata": {},
   "source": []
  },
  {
   "attachments": {},
   "cell_type": "markdown",
   "id": "9e6ed4a9",
   "metadata": {},
   "source": [
    "### Conclusion"
   ]
  },
  {
   "cell_type": "markdown",
   "id": "ef55a765",
   "metadata": {},
   "source": []
  },
  {
   "attachments": {},
   "cell_type": "markdown",
   "id": "cc8b410f",
   "metadata": {},
   "source": [
    "### References"
   ]
  },
  {
   "attachments": {},
   "cell_type": "markdown",
   "id": "40c8997f",
   "metadata": {},
   "source": [
    "[1](https://en.wikipedia.org/wiki/P_(complexity)):\n",
    "**P (Complexity);** Wikipedia, The Free Encyclopedia; 3 Oct 2022; Wed. 1 Feb 2023; https://en.wikipedia.org/wiki/P_(complexity)"
   ]
  }
 ],
 "metadata": {
  "kernelspec": {
   "display_name": "base",
   "language": "python",
   "name": "python3"
  },
  "language_info": {
   "codemirror_mode": {
    "name": "ipython",
    "version": 3
   },
   "file_extension": ".py",
   "mimetype": "text/x-python",
   "name": "python",
   "nbconvert_exporter": "python",
   "pygments_lexer": "ipython3",
   "version": "3.9.12"
  },
  "vscode": {
   "interpreter": {
    "hash": "cc64920957a4294a6ab18984e1c6325dbb779dd3663b17aa9a450aa6820abc21"
   }
  }
 },
 "nbformat": 4,
 "nbformat_minor": 5
}
